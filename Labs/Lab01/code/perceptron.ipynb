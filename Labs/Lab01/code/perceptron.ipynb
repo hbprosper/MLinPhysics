{
 "cells": [
  {
   "cell_type": "markdown",
   "id": "99aa72e3-eac9-4469-84f0-d60654a87e54",
   "metadata": {
    "tags": []
   },
   "source": [
    "# The Perceptron\n",
    "> Created Aug. 2024 for the FSU Course: *Machine Learning in Physics* <br>\n",
    "> H. B. Prosper<br>\n",
    "\n",
    "The perceptron, defined by\n",
    "\\begin{align}\n",
    "    y & = g(x\\,A^\\text{T} + b),\n",
    "\\end{align}\n",
    "is the basic computational element of neural networks. \n",
    "<img src=\"./perceptron.png\" align=\"left\" width=\"400px\"/> The output $y$ and and the bias $b$ are row matrices, while the input $x$ is a matrix consisting of one or more rows.\n",
    "<br clear=\"left\"/>\n",
    "\n",
    "## Tips\n",
    "\n",
    "  * Use __esc r__ to disable a cell\n",
    "  * Use __esc y__ to reactivate it\n",
    "  * Use __esc m__ to go to markdown mode. **Markdown** is the typesetting language used in jupyter notebooks.\n",
    "  * In a markdown cell, double tap the mouse or glide pad (on your laptop) to go to edit mode. \n",
    "  * Shift + return to execute a cell (including markdown cells).\n",
    "  * If the equations don't typeset, try double tapping the cell again, and re-execute it."
   ]
  },
  {
   "cell_type": "markdown",
   "id": "a04e6adc-8849-4431-9f29-1901d3a1b029",
   "metadata": {},
   "source": [
    "## Import modules "
   ]
  },
  {
   "cell_type": "code",
   "execution_count": 1,
   "id": "0352a958-c65a-4ace-bcd8-139417a3afbc",
   "metadata": {
    "tags": []
   },
   "outputs": [],
   "source": [
    "import numpy as np\n",
    "import torch"
   ]
  },
  {
   "cell_type": "markdown",
   "id": "46007341-8db6-426b-99f2-515a491d7f46",
   "metadata": {},
   "source": [
    "## Input Data\n",
    "The input data can consist of one or more rows. We make the data type ($\\texttt{dtype}$) $\\texttt{float32}$ to be compatible with $\\texttt{PyTorch}$."
   ]
  },
  {
   "cell_type": "code",
   "execution_count": 2,
   "id": "8e79d3f7-e0c7-4a8c-8874-9218dfb2b784",
   "metadata": {},
   "outputs": [],
   "source": [
    "x = np.array([-2.0, 1.0, 4.0], dtype=np.float32)"
   ]
  },
  {
   "cell_type": "markdown",
   "id": "ebfabada-8932-4c40-b2c0-e04c44a312f2",
   "metadata": {},
   "source": [
    "## Perceptron Parameters"
   ]
  },
  {
   "cell_type": "code",
   "execution_count": 3,
   "id": "879e9fb9-fb0b-4879-bc91-4068424d7a68",
   "metadata": {},
   "outputs": [],
   "source": [
    "# Perceptron 1\n",
    "A1 = np.array([2,-3, 1], dtype=np.float32)\n",
    "b1 = -5\n",
    "\n",
    "# Perceptron 2\n",
    "A2 = np.array([1, 2, 3], dtype=np.float32)\n",
    "b2 = -4"
   ]
  },
  {
   "cell_type": "markdown",
   "id": "4aa1103e-9d97-4efe-9ca2-2688bef3f782",
   "metadata": {},
   "source": [
    "### Perceptron 1: $z_1 = x \\, A_1^\\text{T} + b_1$; $y_1 = g(z_1)$"
   ]
  },
  {
   "cell_type": "code",
   "execution_count": 4,
   "id": "54601fe8-fed9-413e-b6dd-3aa8ca479906",
   "metadata": {},
   "outputs": [
    {
     "data": {
      "text/plain": [
       "(-8.0, 0.0)"
      ]
     },
     "execution_count": 4,
     "metadata": {},
     "output_type": "execute_result"
    }
   ],
   "source": [
    "z1 = x @ A1.T + b1\n",
    "y1 = np.maximum(0, z1)\n",
    "z1, y1"
   ]
  },
  {
   "cell_type": "markdown",
   "id": "f3e5f38f-7dc2-41d6-b852-f9f84ada3b10",
   "metadata": {},
   "source": [
    "### Perceptron 2: $z_2 = x \\, A_2^\\text{T} + b_2$; $y_2 = g(z_2)$"
   ]
  },
  {
   "cell_type": "code",
   "execution_count": 5,
   "id": "b8c8fc96-60f7-4988-b036-9deda22a9a93",
   "metadata": {},
   "outputs": [
    {
     "data": {
      "text/plain": [
       "(8.0, 8.0)"
      ]
     },
     "execution_count": 5,
     "metadata": {},
     "output_type": "execute_result"
    }
   ],
   "source": [
    "z2 = x @ A2.T + b2\n",
    "y2 = np.maximum(0, z2)\n",
    "z2, y2"
   ]
  },
  {
   "cell_type": "markdown",
   "id": "b723c9e2-5019-4db0-b04c-ff96585b3c9c",
   "metadata": {},
   "source": [
    "## Multi-node Perceptron\n",
    "\n",
    "Construct a 2-node perceptron with 3 inputs."
   ]
  },
  {
   "cell_type": "code",
   "execution_count": 6,
   "id": "9112a5eb-8cc5-45b3-9b92-dfb1970e1052",
   "metadata": {},
   "outputs": [
    {
     "data": {
      "text/plain": [
       "((2, 3),\n",
       " array([[ 2., -3.,  1.],\n",
       "        [ 1.,  2.,  3.]], dtype=float32),\n",
       " (2,),\n",
       " array([-5, -4]))"
      ]
     },
     "execution_count": 6,
     "metadata": {},
     "output_type": "execute_result"
    }
   ],
   "source": [
    "A = np.vstack([A1, A2]) # vertical stack \n",
    "\n",
    "b = np.hstack([b1, b2]) # horizontal stack \n",
    "\n",
    "A.shape, A, b.shape, b"
   ]
  },
  {
   "cell_type": "markdown",
   "id": "2f28bd09-0a9e-42eb-903f-d8ee3c1201bb",
   "metadata": {},
   "source": [
    "Compute output of perceptron"
   ]
  },
  {
   "cell_type": "code",
   "execution_count": 7,
   "id": "02722ed1-e543-4a3e-9f2a-949cce879b09",
   "metadata": {},
   "outputs": [
    {
     "data": {
      "text/plain": [
       "(array([-8.,  8.]), array([0., 8.]))"
      ]
     },
     "execution_count": 7,
     "metadata": {},
     "output_type": "execute_result"
    }
   ],
   "source": [
    "z = x @ A.T + b\n",
    "y = np.maximum(0, z)\n",
    "z, y"
   ]
  },
  {
   "cell_type": "markdown",
   "id": "262fa0e4-955f-4df1-8af6-2cc510b1a96d",
   "metadata": {},
   "source": [
    "## Do the same using $\\texttt{PyTorch}$"
   ]
  },
  {
   "cell_type": "code",
   "execution_count": 8,
   "id": "e4138039-60c1-4e4b-bfb6-2a448b1e72dd",
   "metadata": {},
   "outputs": [
    {
     "data": {
      "text/plain": [
       "(tensor([-8.,  8.]), tensor([0., 8.]))"
      ]
     },
     "execution_count": 8,
     "metadata": {},
     "output_type": "execute_result"
    }
   ],
   "source": [
    "# instantiate a linear function with 3 inputs and 2 outputs\n",
    "linear = torch.nn.Linear(3, 2)\n",
    "\n",
    "# instantiate a relu function that will be applied\n",
    "# elementwise to its matrix argument.\n",
    "relu = torch.nn.ReLU()\n",
    "\n",
    "# compute output of a (3, 2) perceptron\n",
    "with torch.no_grad(): # disable gradient calculation     \n",
    "    linear.weight.copy_(torch.tensor(A)) \n",
    "    linear.bias.copy_(torch.tensor(b))\n",
    "    z = linear(torch.tensor(x)) # compute linear function\n",
    "    y = relu(z)\n",
    "z, y"
   ]
  },
  {
   "cell_type": "code",
   "execution_count": null,
   "id": "8b9b3275-bc64-4878-a843-0fae9c2075cf",
   "metadata": {},
   "outputs": [],
   "source": []
  }
 ],
 "metadata": {
  "kernelspec": {
   "display_name": "Python 3 (ipykernel)",
   "language": "python",
   "name": "python3"
  },
  "language_info": {
   "codemirror_mode": {
    "name": "ipython",
    "version": 3
   },
   "file_extension": ".py",
   "mimetype": "text/x-python",
   "name": "python",
   "nbconvert_exporter": "python",
   "pygments_lexer": "ipython3",
   "version": "3.11.8"
  },
  "toc-autonumbering": false,
  "toc-showcode": false
 },
 "nbformat": 4,
 "nbformat_minor": 5
}
