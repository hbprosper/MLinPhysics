{
 "cells": [
  {
   "attachments": {},
   "cell_type": "markdown",
   "metadata": {},
   "source": [
    "# Sobol Sampling: Tutorial\n",
    "> For the Fall 2024 course: *Machine Learning in Physics*<br>\n",
    "> Created: Aug. 14, 2024 Harrison B. Prosper\n",
    "\n",
    "## Introduction\n",
    "Ilya Sobol was a Russian mathematician, who devised an algorithm to distribute points in a way that is more uniform than occurs with random uniform sampling. Here we show how to call the Sobol sampler in scipy."
   ]
  },
  {
   "cell_type": "code",
   "execution_count": 4,
   "metadata": {},
   "outputs": [],
   "source": [
    "# standard system modules\n",
    "import os, sys\n",
    "\n",
    "# standard module for tabular data\n",
    "import pandas as pd\n",
    "\n",
    "# standard module for array manipulation\n",
    "import numpy as np\n",
    "\n",
    "# standard module for high-quality plots\n",
    "import matplotlib as mp\n",
    "import matplotlib.pyplot as plt\n",
    "\n",
    "# needed to generate Sobol sequences of points (quasi-random sampling)\n",
    "from scipy.stats import qmc\n",
    "\n",
    "# update fonts\n",
    "FONTSIZE = 12\n",
    "font = {'family' : 'serif',\n",
    "        'weight' : 'normal',\n",
    "        'size'   : FONTSIZE}\n",
    "mp.rc('font', **font)\n",
    "\n",
    "# set usetex = False if LaTex is not \n",
    "# available on your system or if the \n",
    "# rendering is too slow\n",
    "mp.rc('text', usetex=True)\n",
    "\n",
    "# set a seed to ensure reproducibility\n",
    "seed = 128\n",
    "rnd  = np.random.RandomState(seed)"
   ]
  },
  {
   "cell_type": "markdown",
   "metadata": {},
   "source": [
    "## Sobol quasi-random sampling"
   ]
  },
  {
   "cell_type": "code",
   "execution_count": 10,
   "metadata": {},
   "outputs": [],
   "source": [
    "def sobol_sequence(D, P, bounds=None):\n",
    "    # D: dimension of input space\n",
    "    # P: number of points = 2^P\n",
    "    \n",
    "    # generate 2^P points in D-dimensional unit hypercube\n",
    "    sampler= qmc.Sobol(d=D, scramble=True)\n",
    "    sample = sampler.random_base2(m=P)\n",
    "\n",
    "    # scale to desired size of hyperrectangle\n",
    "    if type(bounds) != type(None):\n",
    "        lower, upper = bounds\n",
    "        sample = qmc.scale(sample, lower, upper)\n",
    "\n",
    "    return sample"
   ]
  },
  {
   "cell_type": "code",
   "execution_count": 32,
   "metadata": {},
   "outputs": [
    {
     "data": {
      "text/plain": [
       "(256, 2)"
      ]
     },
     "execution_count": 32,
     "metadata": {},
     "output_type": "execute_result"
    }
   ],
   "source": [
    "D = 2 # 2D space\n",
    "P = 8 # N = 2^P: number of points\n",
    "X = sobol_sequence(D, P)\n",
    "X.shape"
   ]
  },
  {
   "cell_type": "markdown",
   "metadata": {},
   "source": [
    "## Uniform random sampling"
   ]
  },
  {
   "cell_type": "code",
   "execution_count": 33,
   "metadata": {},
   "outputs": [
    {
     "data": {
      "text/plain": [
       "(256, 2)"
      ]
     },
     "execution_count": 33,
     "metadata": {},
     "output_type": "execute_result"
    }
   ],
   "source": [
    "Y = np.random.uniform(0, 1, X.shape)\n",
    "Y.shape"
   ]
  },
  {
   "cell_type": "markdown",
   "metadata": {},
   "source": [
    "## Plot Points"
   ]
  },
  {
   "cell_type": "code",
   "execution_count": 34,
   "metadata": {},
   "outputs": [
    {
     "data": {
      "image/png": "[encoded data removed]",
      "text/plain": [
       "<Figure size 600x300 with 2 Axes>"
      ]
     },
     "metadata": {},
     "output_type": "display_data"
    }
   ],
   "source": [
    "def plot_points(s, u, xmin=0, xmax=1, ymin=0, ymax=1,\n",
    "                filename='points.png',\n",
    "                msize=2,\n",
    "                fgsize=(6, 3), \n",
    "                ftsize=14):\n",
    "\n",
    "    # create an empty figure\n",
    "    fig = plt.figure(figsize=fgsize)\n",
    "\n",
    "    # Sobol quasi-random sampling\n",
    "    nrows, ncols, index = 1, 2, 1\n",
    "    ax = fig.add_subplot(nrows, ncols, index)\n",
    "    ax.set_title('Sobol sampling')\n",
    "    \n",
    "    # setup x-axis\n",
    "    ax.set_xlim(xmin, xmax)\n",
    "    ax.set_xlabel(r'$x_1$', fontsize=ftsize)\n",
    "        \n",
    "    ax.set_ylim(ymin, ymax)\n",
    "    ax.set_ylabel(r'$x_2$', fontsize=ftsize)\n",
    "\n",
    "    s = s.T\n",
    "    ax.scatter(s[0], s[1], color='blue', s=msize)\n",
    "\n",
    "    # Uniform random sampling\n",
    "    nrows, ncols, index = 1, 2, 2\n",
    "    ax = fig.add_subplot(nrows, ncols, index)\n",
    "    ax.set_title('Uniform sampling')\n",
    "    \n",
    "    # setup x-axis\n",
    "    ax.set_xlim(xmin, xmax)\n",
    "    ax.set_xlabel(r'$x_1$', fontsize=ftsize)\n",
    "        \n",
    "    ax.set_ylim(ymin, ymax)\n",
    "    ax.set_ylabel(r'$x_2$', fontsize=ftsize)\n",
    "\n",
    "    u = u.T\n",
    "    ax.scatter(u[0], u[1], color='blue', s=msize)\n",
    "\n",
    "    fig.tight_layout()\n",
    "    plt.savefig(filename)\n",
    "    plt.show() \n",
    "\n",
    "plot_points(X, Y)"
   ]
  },
  {
   "cell_type": "code",
   "execution_count": null,
   "metadata": {},
   "outputs": [],
   "source": []
  }
 ],
 "metadata": {
  "kernelspec": {
   "display_name": "Python 3 (ipykernel)",
   "language": "python",
   "name": "python3"
  },
  "language_info": {
   "codemirror_mode": {
    "name": "ipython",
    "version": 3
   },
   "file_extension": ".py",
   "mimetype": "text/x-python",
   "name": "python",
   "nbconvert_exporter": "python",
   "pygments_lexer": "ipython3",
   "version": "3.11.8"
  }
 },
 "nbformat": 4,
 "nbformat_minor": 4
}
