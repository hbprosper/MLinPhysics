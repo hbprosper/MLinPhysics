{
 "cells": [
  {
   "attachments": {},
   "cell_type": "markdown",
   "metadata": {},
   "source": [
    "# Tutorial08: Graph Neural Networks (GNN)\n",
    "> Created Aug. 2024 for the FSU Course: *Machine Learning in Physics* <br>\n",
    "> H. B. Prosper<br>\n",
    "\n",
    "\n",
    "## Introduction\n",
    "In this tutorial we build a **graph neural network** (GNN) similar to the one developed in the award-winning work by the IceCube Collaboration[1] which yielded state-of-the-art results in neutrino event classification.\n",
    "\n",
    "In mathematics, a **graph** is a tuple $G = (V, E)$ of two sets $V = \\{v_1,\\cdots\\}$ and $E = \\{e_1,\\cdots\\}$ where $V$ is a set of **vertices** (or nodes) connected by **edges** that form a set $E$.\n",
    "<img src=\"./graph.png\" align=\"left\" width=\"250px\"/> Graphs are closely related to **point clouds**, which is literally a cloud of points in some vector space. In this tutorial, each data instance is a point cloud $P = \\{ (p_T, \\eta, \\phi)_i \\}_{i=1}^n \\in \\mathbb{R}^d$, where $d = 3$ and where, in general, the number of points $n$ varies from one point cloud to the next. The subset of data used in this tutorial come from the website [LHC Olympics 2020](https://lhco2020.github.io/homepage/), which you should consult for a detailed description of the particle collision events. \n",
    "\n",
    "Because the number of points varies from one point cloud to the next, we shall train the GNN with a batch size of one.\n",
    "<br clear=\"left\"/>\n",
    "\n",
    "\n",
    "## References\n",
    "  1. N. Choma et al. IceCube collaboration, Graph Neural Networks for IceCube Signal Classification,  arXiv:1809.06166v1.\n",
    "\n",
    "## Tips\n",
    "\n",
    "  * Use __esc r__ to disable a cell\n",
    "  * Use __esc y__ to reactivate it\n",
    "  * Use __esc m__ to go to markdown mode. **Markdown** is the typesetting language used in jupyter notebooks.\n",
    "  * In a markdown cell, double tap the mouse or glide pad (on your laptop) to go to edit mode. \n",
    "  * Shift + return to execute a cell (including markdown cells).\n",
    "  * If the equations don't typeset, try double tapping the cell again, and re-execute it."
   ]
  },
  {
   "cell_type": "code",
   "execution_count": 1,
   "metadata": {},
   "outputs": [],
   "source": [
    "# standard system modules\n",
    "import os, sys\n",
    "sys.path.append('../../python')\n",
    "\n",
    "# standard module for tabular data\n",
    "import pandas as pd\n",
    "\n",
    "# standard module for array manipulation\n",
    "import numpy as np\n",
    "\n",
    "# module to access data in Hierarchical Data Format (HDF or H5 format)\n",
    "import h5py\n",
    "\n",
    "# to reimport Python modules\n",
    "import importlib\n",
    "\n",
    "# standard module for high-quality plots\n",
    "import matplotlib as mp\n",
    "import matplotlib.pyplot as plt\n",
    "\n",
    "# standard research-level machine learning toolkit from Meta (FKA: FaceBook)\n",
    "import torch\n",
    "import torch.nn as nn\n",
    "import torch.nn.functional as F\n",
    "\n",
    "from tqdm import tqdm\n",
    "\n",
    "from lossmonitor import TimeLeft\n",
    "\n",
    "# update fonts\n",
    "FONTSIZE = 12\n",
    "plt.rcParams.update({\n",
    "    \"text.usetex\": True, # turn off if the system can't find late\n",
    "    \"font.family\": \"sans-serif\",\n",
    "    \"font.sans-serif\": \"Helvetica\",\n",
    "    \"font.size\": FONTSIZE\n",
    "})\n",
    "\n",
    "# set a seed to ensure reproducibility\n",
    "seed = 128\n",
    "rnd  = np.random.RandomState(seed)"
   ]
  },
  {
   "cell_type": "markdown",
   "metadata": {},
   "source": [
    "## Constants"
   ]
  },
  {
   "cell_type": "code",
   "execution_count": 2,
   "metadata": {},
   "outputs": [
    {
     "name": "stdout",
     "output_type": "stream",
     "text": [
      "Available device: cpu \n"
     ]
    }
   ],
   "source": [
    "PARAMS_FILE = 'GNN.pth' # file containing parameters of trained model\n",
    "LOSS_FILE = 'losses.csv'\n",
    "TIMELEFT_FILE = 'timeleft.txt'\n",
    "DEVICE = torch.device('cuda' if torch.cuda.is_available() else 'cpu')\n",
    "\n",
    "print(f'Available device: {str(DEVICE):4s}')"
   ]
  },
  {
   "cell_type": "markdown",
   "metadata": {},
   "source": [
    "## Load Data\n",
    "The dataset comprises 36,000 events divided equally between signal and background that have been randomly shuffled. The targets can be accessed using the key 'targets' and an event is accessed by specifying the event number  'N', with the first event being '0'."
   ]
  },
  {
   "cell_type": "code",
   "execution_count": 3,
   "metadata": {},
   "outputs": [
    {
     "name": "stderr",
     "output_type": "stream",
     "text": [
      "100%|███████████████████████████████████| 36000/36000 [00:04<00:00, 8124.26it/s]\n"
     ]
    },
    {
     "name": "stdout",
     "output_type": "stream",
     "text": [
      "E[pt]:     20.2 GeV, Std[pt]:     60.9 GeV\n"
     ]
    },
    {
     "data": {
      "text/plain": [
       "(torch.Size([36000]), torch.Size([111, 3]))"
      ]
     },
     "execution_count": 3,
     "metadata": {},
     "output_type": "execute_result"
    }
   ],
   "source": [
    "hdf = h5py.File('../data/events.h5', \"r\")\n",
    "\n",
    "targets = torch.tensor(np.array(hdf['targets']))\n",
    "\n",
    "events = []\n",
    "pt = []\n",
    "for i in tqdm(range(len(targets))):\n",
    "\n",
    "    # create event key into hdf file\n",
    "    key = f'{i:d}'\n",
    "\n",
    "    # get array of particles\n",
    "    event = np.array(hdf[key])\n",
    "\n",
    "    # accumulate transverse momenta (to compute mean and stdev)\n",
    "    pt += list(event[:, 0])\n",
    "\n",
    "    # convert every array to a tensor and send to computational device\n",
    "    event = torch.Tensor(event).to(DEVICE)\n",
    "\n",
    "    # cache the tensor in a Python list\n",
    "    events.append(event)\n",
    "\n",
    "pt = np.array(pt)\n",
    "\n",
    "print(f'E[pt]: {pt.mean():8.1f} GeV, Std[pt]: {pt.std():8.1f} GeV')\n",
    "\n",
    "targets.shape, events[0].shape"
   ]
  },
  {
   "cell_type": "markdown",
   "metadata": {},
   "source": [
    "## Plot Events\n",
    "\n",
    "The particle's transverse momentum is proportional to the area of the markers."
   ]
  },
  {
   "cell_type": "code",
   "execution_count": 60,
   "metadata": {},
   "outputs": [
    {
     "data": {
      "image/png": "[encoded data removed]",
      "text/plain": [
       "<Figure size 600x600 with 9 Axes>"
      ]
     },
     "metadata": {},
     "output_type": "display_data"
    }
   ],
   "source": [
    "def plot_events(data, ndata=9, ptscale=25, scale=80,\n",
    "                xmin=-6.0, xmax=6.0,\n",
    "                ymin=-4.0, ymax=4.0, \n",
    "                filename='events.png',\n",
    "                ftsize=14):\n",
    "\n",
    "    targets = np.array(data['targets'])\n",
    "    \n",
    "    plt.rcParams.update({'font.size': 10})\n",
    "\n",
    "    # work out number of columns and number of plots\n",
    "    ncols = 3\n",
    "    nrows = ndata // ncols\n",
    "    ndata = nrows * ncols\n",
    "    fgsize= (2*ncols, 2*nrows)\n",
    "        \n",
    "    # create an empty figure\n",
    "    fig = plt.figure(figsize=fgsize)\n",
    "\n",
    "    for i in range(ndata):\n",
    "        index = i+1\n",
    "        ax = fig.add_subplot(nrows, ncols, index)\n",
    "        \n",
    "        # setup axes\n",
    "        ax.set_xlim(xmin, xmax)\n",
    "        ax.set_ylim(ymin, ymax)\n",
    "        \n",
    "        if i > (nrows-1) * ncols-1:\n",
    "            ax.set_xlabel(r'$\\eta$', fontsize=ftsize)\n",
    "        \n",
    "        if i % ncols == 0:\n",
    "            ax.set_ylabel(r'$\\phi$', fontsize=ftsize)\n",
    "\n",
    "        # area of points in (y, phi) proportional to pt\n",
    "        key = f'{i:d}'\n",
    "        pt, eta, phi = np.array(data[key]).T\n",
    "        y = targets[i]\n",
    "        \n",
    "        size = scale * np.sqrt(pt / ptscale)\n",
    "        cmap = mp.colormaps['rainbow']\n",
    "        colors = cmap(size / size.max(), alpha=0.4)\n",
    "\n",
    "        ax.scatter(eta, phi, s=size, c=colors)\n",
    "\n",
    "        ax.text(2.5, 3.0, f'$y = {y:d}$', fontsize=12)\n",
    "    \n",
    "    fig.tight_layout()\n",
    "    plt.savefig(filename)\n",
    " \n",
    "plot_events(hdf)"
   ]
  },
  {
   "cell_type": "markdown",
   "metadata": {},
   "source": [
    "## Plot Distribution of Particle Count"
   ]
  },
  {
   "cell_type": "code",
   "execution_count": 5,
   "metadata": {},
   "outputs": [
    {
     "data": {
      "image/png": "[encoded data removed]",
      "text/plain": [
       "<Figure size 500x400 with 1 Axes>"
      ]
     },
     "metadata": {},
     "output_type": "display_data"
    }
   ],
   "source": [
    "def plot_multiplicity(data, N=36000,\n",
    "                      xmin=0, xmax=400,\n",
    "                      ymin=0, ymax=400, \n",
    "                      filename='multiplicity.png',\n",
    "                      fgsize=(5, 4),\n",
    "                      ftsize=14):\n",
    "\n",
    "    # create an empty figure\n",
    "    fig = plt.figure(figsize=fgsize)\n",
    "    \n",
    "    nrows, ncols, index = 1, 1, 1\n",
    "    ax = fig.add_subplot(nrows, ncols, index)\n",
    "        \n",
    "    # setup axes\n",
    "    ax.set_xlim(xmin, xmax)\n",
    "    ax.set_ylim(ymin, ymax)\n",
    "\n",
    "    ax.set_xlabel(r'number of particles/event', fontsize=ftsize)\n",
    "\n",
    "    ax.set_ylabel(r'count', fontsize=ftsize)\n",
    "\n",
    "    x = [len(data[f'{i:d}']) for i in range(N)]\n",
    "    ax.hist(x, bins=xmax, range=(xmin, xmax), color='steelblue', alpha=0.4)\n",
    "\n",
    "    fig.tight_layout()\n",
    "    plt.savefig(filename)\n",
    "\n",
    "plot_multiplicity(hdf)"
   ]
  },
  {
   "cell_type": "markdown",
   "metadata": {},
   "source": [
    "## Prepare Training, Validation, and Test Datasets\n",
    "  1. Scale data\n",
    "  2. Split data into training, testing, and validation sets.\n",
    "  3. Move them to computational device."
   ]
  },
  {
   "cell_type": "code",
   "execution_count": 6,
   "metadata": {},
   "outputs": [],
   "source": [
    "scale = torch.Tensor([[200, 5, np.pi]])\n",
    "\n",
    "X = [event / scale for event in events]"
   ]
  },
  {
   "cell_type": "code",
   "execution_count": 7,
   "metadata": {},
   "outputs": [
    {
     "name": "stdout",
     "output_type": "stream",
     "text": [
      "Size of training set:        30000\n",
      "Size of test set:             5000\n",
      "Size of validation set:       1000\n"
     ]
    }
   ],
   "source": [
    "n_train = 30000\n",
    "n_test  =  5000\n",
    "n_valid =  len(targets) - n_train - n_test\n",
    "\n",
    "# split and convert to tensors\n",
    "\n",
    "train_x, X = X[:n_train],  X[n_train:]\n",
    "train_y, Y = targets[:n_train], targets[n_train:]\n",
    "\n",
    "test_x, valid_x = X[:n_test], X[n_test:]\n",
    "test_y, valid_y = Y[:n_test], Y[n_test:]\n",
    "\n",
    "print(\"Size of training set:   %10d\" % len(train_x))\n",
    "print(\"Size of test set:       %10d\" % len(test_x))\n",
    "print(\"Size of validation set: %10d\" % len(valid_x))"
   ]
  },
  {
   "cell_type": "markdown",
   "metadata": {},
   "source": [
    "## Utilities\n",
    "  1. $\\texttt{delta\\_phi}$ - computes $\\phi_2 - \\phi_1$ accounting for the wraparound.\n",
    "  2. $\\texttt{number\\_of\\_parameters}$ - returns the number of model parameters to be fitted."
   ]
  },
  {
   "cell_type": "code",
   "execution_count": 8,
   "metadata": {},
   "outputs": [],
   "source": [
    "def delta_phi(phi2, phi1):\n",
    "    deltaphi = phi2 - phi1\n",
    "    abs_deltaphi = torch.abs(deltaphi)\n",
    "    deltaphi = torch.where(abs_deltaphi > torch.pi, \n",
    "                           2 * torch.pi - abs_deltaphi, \n",
    "                           abs_deltaphi)\n",
    "    return deltaphi\n",
    "\n",
    "def number_of_parameters(model):\n",
    "    return sum(p.numel() for p in model.parameters() if p.requires_grad)"
   ]
  },
  {
   "cell_type": "markdown",
   "metadata": {},
   "source": [
    "## Building a Model as a Python Class\n",
    "\n",
    "The **nn.Sequential** class is the simplest way to construct (simple) PyTorch models. But if you want more control over the model, you can achieve this by building the model as a class inheriting from **nn.Module** as in the following cell. "
   ]
  },
  {
   "cell_type": "markdown",
   "metadata": {},
   "source": [
    "### $\\texttt{Edges}$\n",
    "This computes the adjacency matrix $E \\equiv A$ given vertices $V$. An event with $n$ particles can be modeled as a graph with $n$ vertices. Inspired by IceCube, we model the edges of the graph as an $n \\times n$ adjacency matrix $A$ where the matrix elements are given by\n",
    "\\begin{align}\n",
    "    d_{ij} & = \\exp(-\\alpha \\| x_i - x_j \\|^2), \\\\\n",
    "    A_{ij} & = \\texttt{softmax}(d_{ij}, \\, \\texttt{dim}=1) ,\n",
    "\\end{align}\n",
    "where $x_i = (\\eta_i, \\phi_i)$ and $\\alpha$ is a free parameter. Following IceCube, the adjacency matrix is not changed by convolution operation, but does of course change from one graph to the next."
   ]
  },
  {
   "cell_type": "code",
   "execution_count": 10,
   "metadata": {},
   "outputs": [],
   "source": [
    "class Edges(nn.Module):\n",
    "    '''\n",
    "    Given a set of vertices V, compute adjacency matrix of shape (n, n).\n",
    "    '''    \n",
    "    def __init__(self, alpha=1, device=DEVICE):\n",
    "\n",
    "        super().__init__()\n",
    "\n",
    "        # Note use of Parameter to tell PyTorch that this parameter\n",
    "        # is to be fitted.\n",
    "        self.alpha = nn.Parameter(alpha * torch.rand(1))\n",
    "\n",
    "        self.device = device\n",
    "        \n",
    "    def forward(self, x):\n",
    "\n",
    "        # 1. compute square of Euclidean distance in (eta, phi) space\n",
    "        #    dR^2 = deta^2 + dphi^2\n",
    "        eta, phi = x[:, 1], x[:, 2]\n",
    "        deta = eta.view(-1, 1) - eta.view(1, -1)\n",
    "        dphi = delta_phi(phi.view(-1, 1), phi.view(1, -1))\n",
    "        dRdR = deta**2 + dphi**2\n",
    "\n",
    "        # 2. compute exp(- alpha * dR)**2)\n",
    "        A = torch.exp(-self.alpha * dRdR)\n",
    "\n",
    "        # 3. apply softmax in horizontal direction.\n",
    "        #    adding a unit matrix to the adjacency matrix \n",
    "        #    makes the training a bit more stable\n",
    "        A = torch.softmax(A, dim=1) + torch.eye(len(x)).to(self.device)\n",
    "        \n",
    "        return A"
   ]
  },
  {
   "cell_type": "markdown",
   "metadata": {},
   "source": [
    "### Graph Convolution $\\texttt{GCNLayer}$\n",
    "Here we implement a simple graph convolutional layer from scratch, which differs slightly from the IceCube implementation.\n",
    "The vertices are concatenated into a matrix, $X$, of shape $(n, d)$. Given a weight matrix $w$ of shape $(h, h)$, where typically $h > d$, and a matrix of ones of shape $(n, h)$ scaled by the bias parameter $b$, the graph convolution operation is defined by\n",
    "\\begin{align}\n",
    "    X & \\leftarrow \\sigma(X W^T + B),\\\\\n",
    "    X & \\leftarrow \\sigma((A X) w + b \\mathbb{I}) ,\n",
    "\\end{align}\n",
    "where $\\sigma$ is an element-wise nonlinear transformation."
   ]
  },
  {
   "cell_type": "code",
   "execution_count": 11,
   "metadata": {},
   "outputs": [],
   "source": [
    "class GCNLayer(nn.Module):\n",
    "    \n",
    "    def __init__(self, in_features, out_features, scale=0.05):\n",
    "\n",
    "        # initialize base class\n",
    "        super().__init__()\n",
    "\n",
    "        # we embed the \"n\" input vertices in a larger vector space\n",
    "        self.embed  = nn.Linear(in_features, out_features)\n",
    "        \n",
    "        self.weight = nn.Parameter(scale * (2*torch.rand(out_features, out_features)-1.0))\n",
    "        self.bias   = nn.Parameter(scale * (2*torch.rand(1)-1.0))\n",
    "\n",
    "    def forward(self, X, A):\n",
    "\n",
    "        # embed vertices in a larger vector space\n",
    "        X = self.embed(X)\n",
    "        X = F.relu(X)\n",
    "\n",
    "        # perform graph convolution. for each vertex, this operation\n",
    "        # performs a weighted sum of the features of all other vertices,\n",
    "        # weighting the nearest neighbors more heavily.\n",
    "        # AX = A * X\n",
    "        AX = torch.matmul(A, X)\n",
    "\n",
    "        # compute (A * X) * W + B * I\n",
    "        X = torch.matmul(AX, self.weight) + self.bias * torch.ones_like(X)\n",
    "        X = F.relu(X)\n",
    "\n",
    "        # return modified graph  \n",
    "        return X\n",
    "\n",
    "class VerticalSum(nn.Module):\n",
    "    '''\n",
    "    Perform a permutation and vertex count-invariant operation on the\n",
    "    vertices of a graph.\n",
    "    '''\n",
    "    def __init__(self):\n",
    "        super().__init__()\n",
    "        \n",
    "    def forward(self, x):\n",
    "        x = x.sum(dim=0)\n",
    "        return x"
   ]
  },
  {
   "cell_type": "markdown",
   "metadata": {},
   "source": [
    "### Graph neural network (GNN)"
   ]
  },
  {
   "cell_type": "code",
   "execution_count": 12,
   "metadata": {},
   "outputs": [],
   "source": [
    "class GNN(nn.Module):\n",
    "    \n",
    "    def __init__(self, n_dim, n_width=40):\n",
    "\n",
    "        # initialize base class\n",
    "        super().__init__()\n",
    "\n",
    "        self.edges  = Edges()\n",
    "        self.gconv1 = GCNLayer(n_dim,   n_width)\n",
    "        self.gconv2 = GCNLayer(n_width, n_width)\n",
    "        self.vsum   = VerticalSum()\n",
    "        self.linear = nn.Linear(n_width, 1)\n",
    "\n",
    "    def forward(self, x):\n",
    "\n",
    "        # construct n x n adjacency matrix which together\n",
    "        # with the vertices V = x forms the graph G = (V, E)\n",
    "        V = x\n",
    "        E = self.edges(V)\n",
    "        \n",
    "        # pass graph G = (V, E) through multiple\n",
    "        # graph convolution layers (graph processors)\n",
    "        V = self.gconv1(V, E)\n",
    "        V = F.relu(V)\n",
    "        \n",
    "        V = self.gconv2(V, E)\n",
    "        V = F.relu(V)\n",
    "        \n",
    "        # apply a permutation- and vertex count-invariant\n",
    "        # function to the vertices \n",
    "        x = self.vsum(V)\n",
    "\n",
    "        # complete with a simple MLP\n",
    "        x = self.linear(x)     \n",
    "        x = F.sigmoid(x)\n",
    "        \n",
    "        return x\n",
    "\n",
    "    def save(self, paramsfile):\n",
    "        # save parameters of neural network\n",
    "        torch.save(self.state_dict(), paramsfile)\n",
    "\n",
    "    def load(self, paramsfile):\n",
    "        # load parameters of neural network\n",
    "        self.eval()\n",
    "        self.load_state_dict(torch.load(paramsfile))"
   ]
  },
  {
   "cell_type": "markdown",
   "metadata": {},
   "source": [
    "### Define empirical risk (aka average loss)"
   ]
  },
  {
   "cell_type": "code",
   "execution_count": 13,
   "metadata": {},
   "outputs": [],
   "source": [
    "# Note: there are several average loss functions available \n",
    "# in pytorch, but it's useful to know how to create your own.\n",
    "def average_quadratic_loss(f, t):\n",
    "    # f and t must be of the same shape\n",
    "    return  torch.mean((f - t)**2)\n",
    "\n",
    "def average_cross_entropy_loss(f, t):\n",
    "    # f and t must be of the same shape\n",
    "    # f = torch.where(f >= 1, 0.9999, f)\n",
    "    losses = torch.where(t > 0.5, torch.log(f), torch.log(1-f))\n",
    "    return -torch.mean(losses)"
   ]
  },
  {
   "cell_type": "markdown",
   "metadata": {},
   "source": [
    "### Empirical risk\n",
    "Ordinarily, the calculation of the empirical risk would leverage the implied loop over batch elements provided by $\\texttt{PyTorch}$. However, this requires each batch element to be of the same size. Our implementation of the empiricaal risk computes the loss for each data instance one instance at a time, which of course is much slower. But this is done to account for the fact that the number of points per data instance can vary from one instance to the next. Most of the time, we'll choose a batch size of 1 and a small learning rate."
   ]
  },
  {
   "cell_type": "code",
   "execution_count": 21,
   "metadata": {},
   "outputs": [],
   "source": [
    "def empirical_risk(model, lossfn, X, Y):        \n",
    "    out = model(X[0]) \n",
    "    loss = lossfn(out, Y[0])\n",
    "\n",
    "    for x, y in zip(X[1:], Y[1:]):\n",
    "        out = model(x)\n",
    "        loss += lossfn(out, y)\n",
    "    loss /= len(X)\n",
    "    return loss"
   ]
  },
  {
   "cell_type": "markdown",
   "metadata": {},
   "source": [
    "## A Simple Dataloader\n",
    "This dataloader simply cycles through the training set."
   ]
  },
  {
   "cell_type": "code",
   "execution_count": 22,
   "metadata": {},
   "outputs": [],
   "source": [
    "class DataLoader:\n",
    "    \n",
    "    def __init__(self, X, T, batch_size):\n",
    "        self.X = X\n",
    "        self.T = T\n",
    "        \n",
    "        self.B = batch_size\n",
    "        self.N = len(X)\n",
    "        \n",
    "        self.J = 0\n",
    "        self.A = len(X) / batch_size\n",
    "        self.J = int(self.A) + 1\n",
    "        \n",
    "        self.start = 0\n",
    "        self.end = B\n",
    "        self.ii = -1\n",
    "        \n",
    "    def __call__(self, ii=-1):\n",
    "\n",
    "        if ii > self.ii:\n",
    "            \n",
    "            # update start and end of batch\n",
    "                \n",
    "            self.J += 1\n",
    "            if self.J >= self.A:\n",
    "                self.J = 0\n",
    "                self.start = 0\n",
    "                self.end = self.B\n",
    "            else:\n",
    "                self.start += self.B\n",
    "                self.end = self.start + self.B\n",
    "                if self.end > self.N:\n",
    "                    self.end = self.N\n",
    "\n",
    "        self.ii = ii\n",
    "        \n",
    "        return self.X[self.start:self.end], self.T[self.start:self.end]\n",
    "        "
   ]
  },
  {
   "cell_type": "markdown",
   "metadata": {},
   "source": [
    "### Test DataLoader"
   ]
  },
  {
   "cell_type": "code",
   "execution_count": 23,
   "metadata": {},
   "outputs": [
    {
     "name": "stdout",
     "output_type": "stream",
     "text": [
      "    0\t[0, 1, 2] \t[0, 11, 22]\n",
      "    1\t[3, 4, 5] \t[33, 44, 55]\n",
      "    2\t[6]       \t[66]      \n",
      "    3\t[0, 1, 2] \t[0, 11, 22]\n",
      "    4\t[3, 4, 5] \t[33, 44, 55]\n",
      "    5\t[6]       \t[66]      \n",
      "    6\t[0, 1, 2] \t[0, 11, 22]\n",
      "    7\t[3, 4, 5] \t[33, 44, 55]\n",
      "    8\t[6]       \t[66]      \n",
      "    9\t[0, 1, 2] \t[0, 11, 22]\n",
      "\n",
      "    0\t[0, 1, 2] \t[0, 11, 22]\n",
      "    1\t[0, 1, 2] \t[0, 11, 22]\n",
      "    2\t[0, 1, 2] \t[0, 11, 22]\n",
      "    3\t[0, 1, 2] \t[0, 11, 22]\n",
      "    4\t[0, 1, 2] \t[0, 11, 22]\n",
      "    5\t[0, 1, 2] \t[0, 11, 22]\n",
      "    6\t[0, 1, 2] \t[0, 11, 22]\n",
      "    7\t[0, 1, 2] \t[0, 11, 22]\n",
      "    8\t[0, 1, 2] \t[0, 11, 22]\n",
      "    9\t[0, 1, 2] \t[0, 11, 22]\n"
     ]
    }
   ],
   "source": [
    "X = [0,1,2,3,4,5,6]\n",
    "Y = [0,11,22,33,44,55,66]\n",
    "B = 3\n",
    "\n",
    "dataloader = DataLoader(X, Y, B)\n",
    "\n",
    "for i in range(10):\n",
    "    x, y = dataloader(i)\n",
    "    print(f'{i:5d}\\t{str(x):10s}\\t{str(y):10s}')\n",
    "\n",
    "print()\n",
    "\n",
    "for i in range(10):\n",
    "    x, y = dataloader()\n",
    "    print(f'{i:5d}\\t{str(x):10s}\\t{str(y):10s}')\n"
   ]
  },
  {
   "cell_type": "markdown",
   "metadata": {},
   "source": [
    "### Train model"
   ]
  },
  {
   "cell_type": "code",
   "execution_count": 24,
   "metadata": {},
   "outputs": [],
   "source": [
    "def train(model, optimizer, lossfn, \n",
    "          t_dataloader, v_dataloader1, v_dataloader2,\n",
    "          number_iterations,\n",
    "          lossfile=LOSS_FILE,\n",
    "          timeleftfile=TIMELEFT_FILE,\n",
    "          paramsfile=PARAMS_FILE,\n",
    "          step=100):\n",
    "\n",
    "    # start saving model parameters after the following number of iterations.\n",
    "    start_saving = number_iterations // 100\n",
    "    min_avloss   = float('inf')  # initialize minimum average loss\n",
    "\n",
    "    # initialize loss file\n",
    "    # create loss file if it does not exist\n",
    "    if not os.path.exists(lossfile):\n",
    "        open(lossfile, 'w').write('iteration,t_loss,v_loss\\n')  \n",
    "\n",
    "    # get last iteration number from loss file\n",
    "    df = pd.read_csv(lossfile)\n",
    "    if len(df) < 1:\n",
    "        itno = 0\n",
    "    else:\n",
    "        itno = df.iteration.iloc[-1] # get last iteration number\n",
    "\n",
    "    # ------------------------------------------\n",
    "    # enter training loop\n",
    "    # ------------------------------------------\n",
    "    timeleft = TimeLeft(number_iterations)\n",
    "    \n",
    "    for ii in range(number_iterations):\n",
    "        \n",
    "        # set mode to training so that training-specific \n",
    "        # operations such as dropout, etc., are enabled.\n",
    "\n",
    "        model.train() # training mode\n",
    "\n",
    "        x, y = t_dataloader(ii)\n",
    "        \n",
    "        loss = empirical_risk(model, lossfn, x, y)\n",
    "    \n",
    "        optimizer.zero_grad()  # clear previous gradients\n",
    "    \n",
    "        loss.backward()        # compute gradients\n",
    "    \n",
    "        optimizer.step()       # move one step\n",
    "    \n",
    "        # i'm alive printout\n",
    "        \n",
    "        if (ii % step == 0) and (ii > 0):\n",
    "\n",
    "            with torch.no_grad():\n",
    "                \n",
    "                model.eval()\n",
    "                \n",
    "                # compute average loss on train data\n",
    "                x, y = v_dataloader1()\n",
    "                t_loss = empirical_risk(model, lossfn, x, y).detach()\n",
    "\n",
    "                # compute average loss on validation data\n",
    "                x, y = v_dataloader2()\n",
    "                v_loss = empirical_risk(model, lossfn, x, y).detach()\n",
    "     \n",
    "            # update loss file\n",
    "            \n",
    "            open(loss_file, 'a').write(f'{itno:12d},{t_loss:12.8},{v_loss:12.8}\\n')\n",
    "\n",
    "            # save model paramters to file\n",
    "            \n",
    "            if v_loss < min_avloss:\n",
    "                min_avloss = v_loss\n",
    "                if ii > start_saving:\n",
    "                    model.save(paramsfile)\n",
    "\n",
    "            # update time left file\n",
    "            \n",
    "            line = f'|{itno:12d}|{t_loss:12.8f}|{v_loss:12.8f}|'\n",
    "            timeleft(ii, line)\n",
    "            open(timeleftfile, 'w').write(f'{str(timeleft):s}\\n')\n",
    "\n",
    "            # update iteration number\n",
    "            \n",
    "            itno += step\n",
    "\n",
    "    print()      \n",
    "    return "
   ]
  },
  {
   "cell_type": "markdown",
   "metadata": {},
   "source": [
    "## Instantiate and Train Model"
   ]
  },
  {
   "cell_type": "code",
   "execution_count": 25,
   "metadata": {},
   "outputs": [
    {
     "name": "stdout",
     "output_type": "stream",
     "text": [
      "number of parameters: 5044\n",
      "GNN(\n",
      "  (edges): Edges()\n",
      "  (gconv1): GCNLayer(\n",
      "    (embed): Linear(in_features=3, out_features=40, bias=True)\n",
      "  )\n",
      "  (gconv2): GCNLayer(\n",
      "    (embed): Linear(in_features=40, out_features=40, bias=True)\n",
      "  )\n",
      "  (vsum): VerticalSum()\n",
      "  (linear): Linear(in_features=40, out_features=1, bias=True)\n",
      ")\n",
      "\n",
      "edges.alpha\n",
      "gconv1.weight\n",
      "gconv1.bias\n",
      "gconv1.embed.weight\n",
      "gconv1.embed.bias\n",
      "gconv2.weight\n",
      "gconv2.bias\n",
      "gconv2.embed.weight\n",
      "gconv2.embed.bias\n",
      "linear.weight\n",
      "linear.bias\n"
     ]
    }
   ],
   "source": [
    "_, n_dimensions = train_x[0].shape\n",
    "\n",
    "model = GNN(n_dimensions).to(DEVICE)\n",
    "print('number of parameters:', number_of_parameters(model))\n",
    "\n",
    "print(model)\n",
    "print()\n",
    "\n",
    "for name, p in model.named_parameters():\n",
    "    if p.requires_grad:\n",
    "        print(name)\n",
    "        #print(p)\n",
    "        #print()"
   ]
  },
  {
   "cell_type": "code",
   "execution_count": 26,
   "metadata": {},
   "outputs": [],
   "source": [
    "loss_file = LOSS_FILE\n",
    "timeleft_file = TIMELEFT_FILE\n",
    "params_file = PARAMS_FILE\n",
    "\n",
    "n_iterations = 200001\n",
    "n_batch = 1\n",
    "step = 100\n",
    "learning_rate = 1e-5\n",
    "\n",
    "optimizer = torch.optim.Adam(model.parameters(), lr=learning_rate)\n",
    "\n",
    "avloss = average_cross_entropy_loss\n",
    "\n",
    "t_dataloader  = DataLoader(train_x, train_y, n_batch)\n",
    "v_dataloader1 = DataLoader(train_x, train_y, n_valid)\n",
    "v_dataloader2 = DataLoader(valid_x, valid_y, n_valid)"
   ]
  },
  {
   "cell_type": "code",
   "execution_count": 20,
   "metadata": {},
   "outputs": [
    {
     "name": "stdout",
     "output_type": "stream",
     "text": [
      "    200001|100.00%|00:14:57/00:00:00| 222.9 it/s|      199900|  0.30926517|  0.26799062|\n",
      "\n"
     ]
    }
   ],
   "source": [
    "DELETE_LOSS_FILE = True\n",
    "\n",
    "if DELETE_LOSS_FILE:\n",
    "    os.system(f'rm -f {loss_file:s}')\n",
    "\n",
    "train(model, optimizer, avloss, \n",
    "      t_dataloader, v_dataloader1, v_dataloader2, \n",
    "      n_iterations,\n",
    "      loss_file, timeleft_file, params_file, \n",
    "      step)"
   ]
  },
  {
   "cell_type": "code",
   "execution_count": 41,
   "metadata": {},
   "outputs": [],
   "source": [
    "def plot_confusion_matrix(y_pred, y, gfile='confusion_matrix.png'):\n",
    "    \n",
    "    from sklearn.metrics import confusion_matrix\n",
    "    \n",
    "    # Calculate the confusion matrix\n",
    "\n",
    "    conf_matrix = confusion_matrix(y_true=y, y_pred=y_pred)\n",
    "\n",
    "    # plot the confusion matrix using Matplotlib\n",
    "    fig, ax = plt.subplots(figsize=(4, 4))\n",
    "    ax.matshow(conf_matrix, cmap=plt.cm.rainbow, alpha=0.4)\n",
    "\n",
    "    for i in range(conf_matrix.shape[0]):\n",
    "        for j in range(conf_matrix.shape[1]):\n",
    "            ax.text(x=j, y=i, s=conf_matrix[i, j], \n",
    "                    va='center', ha='center', size='x-large')\n",
    " \n",
    "    plt.xlabel('Predicted Labels', fontsize=16)\n",
    "    plt.ylabel('True Labels', fontsize=16)\n",
    "    plt.title(f'Confusion Matrix', fontsize=16)\n",
    "    fig.tight_layout()\n",
    "    plt.savefig(gfile)\n",
    "    plt.show()"
   ]
  },
  {
   "cell_type": "code",
   "execution_count": 43,
   "metadata": {},
   "outputs": [
    {
     "name": "stderr",
     "output_type": "stream",
     "text": [
      "100%|██████████████████████████████████████| 5000/5000 [00:09<00:00, 510.37it/s]\n"
     ]
    }
   ],
   "source": [
    "model.load(params_file)\n",
    "\n",
    "y_hat = []\n",
    "for i in tqdm(range(len(test_x))):\n",
    "    y_hat.append(float(model(test_x[i]).data.cpu()))\n",
    "\n",
    "y_hat  = np.array(y_hat)\n",
    "y_pred = (y_hat > 0.5).astype(int)\n",
    "y_true = test_y.data.cpu().numpy()"
   ]
  },
  {
   "cell_type": "code",
   "execution_count": 44,
   "metadata": {},
   "outputs": [
    {
     "data": {
      "image/png": "[encoded data removed]",
      "text/plain": [
       "<Figure size 400x400 with 1 Axes>"
      ]
     },
     "metadata": {},
     "output_type": "display_data"
    }
   ],
   "source": [
    "plot_confusion_matrix(y_pred, y_true)"
   ]
  },
  {
   "cell_type": "code",
   "execution_count": 56,
   "metadata": {},
   "outputs": [
    {
     "data": {
      "image/png": "[encoded data removed]",
      "text/plain": [
       "<Figure size 500x400 with 1 Axes>"
      ]
     },
     "metadata": {},
     "output_type": "display_data"
    }
   ],
   "source": [
    "def plot_outputs(yhat, y, \n",
    "                      xbins=50, xmin=0, xmax=1,\n",
    "                      ymin=0, ymax=400, \n",
    "                      filename='outputs.png',\n",
    "                      fgsize=(5, 4),\n",
    "                      ftsize=14):\n",
    "\n",
    "    # create an empty figure\n",
    "    fig = plt.figure(figsize=fgsize)\n",
    "    \n",
    "    nrows, ncols, index = 1, 1, 1\n",
    "    ax = fig.add_subplot(nrows, ncols, index)\n",
    "        \n",
    "    # setup axes\n",
    "    ax.set_xlim(xmin, xmax)\n",
    "    ax.set_ylim(ymin, ymax)\n",
    "\n",
    "    ax.set_xlabel(r'$y = D(G)$', fontsize=ftsize)\n",
    "\n",
    "    ax.set_ylabel(r'count', fontsize=ftsize)\n",
    "\n",
    "    s = yhat[y > 0.5]\n",
    "    b = yhat[y < 0.5]\n",
    "    ax.hist(s, bins=xbins, range=(xmin, xmax), color='blue', alpha=0.3, label='signal')\n",
    "    ax.hist(b, bins=xbins, range=(xmin, xmax), color='red', alpha=0.3, label='background')\n",
    "    ax.legend()\n",
    "    \n",
    "    fig.tight_layout()\n",
    "    plt.savefig(filename)\n",
    "\n",
    "plot_outputs(y_hat, y_true)"
   ]
  },
  {
   "cell_type": "code",
   "execution_count": null,
   "metadata": {},
   "outputs": [],
   "source": []
  }
 ],
 "metadata": {
  "kernelspec": {
   "display_name": "Python 3 (ipykernel)",
   "language": "python",
   "name": "python3"
  },
  "language_info": {
   "codemirror_mode": {
    "name": "ipython",
    "version": 3
   },
   "file_extension": ".py",
   "mimetype": "text/x-python",
   "name": "python",
   "nbconvert_exporter": "python",
   "pygments_lexer": "ipython3",
   "version": "3.11.8"
  }
 },
 "nbformat": 4,
 "nbformat_minor": 4
}
