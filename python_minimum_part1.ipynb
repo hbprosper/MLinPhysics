{
 "cells": [
  {
   "cell_type": "markdown",
   "id": "99aa72e3-eac9-4469-84f0-d60654a87e54",
   "metadata": {},
   "source": [
    "# The Python Minimum: Part 1\n",
    "\n",
    "There are many excellent Python tutorials on the internet, for example, [here](https://www.w3schools.com/python/default.asp). This notebook is a bare bones introduction.\n",
    "\n",
    "## Tips\n",
    "\n",
    "  * Use __esc r__ to disable a cell\n",
    "  * Use __esc y__ to reactivate it\n",
    "  * Use __esc m__ to go to markdown mode\n",
    "  * Press Shift then hit return to execute a cell\n",
    "\n"
   ]
  },
  {
   "cell_type": "markdown",
   "id": "a04e6adc-8849-4431-9f29-1901d3a1b029",
   "metadata": {},
   "source": [
    "## Import Modules \n",
    "Make Python modules (that is, collections of programs) available to this notebook.\n"
   ]
  },
  {
   "cell_type": "code",
   "execution_count": 1,
   "id": "0352a958-c65a-4ace-bcd8-139417a3afbc",
   "metadata": {},
   "outputs": [],
   "source": [
    "# standard system modules\n",
    "import os, sys\n",
    "\n",
    "# array manipulation\n",
    "import numpy as np\n",
    "\n",
    "# scientific python\n",
    "import scipy as sp\n",
    "\n",
    "# table manipulation\n",
    "import pandas as pd\n",
    "\n",
    "# symbolic mathematics\n",
    "import sympy as sm\n",
    "sm.init_printing()        # activate \"pretty printing\" of symbolic expressions\n",
    "\n",
    "# publication quality plots\n",
    "import matplotlib as mp\n",
    "import matplotlib.pyplot as plt\n",
    "from matplotlib.animation import FuncAnimation\n",
    "\n",
    "# simple pretty printer\n",
    "from pprint import PrettyPrinter"
   ]
  },
  {
   "cell_type": "markdown",
   "id": "0bf90f47-5213-4686-8efb-2eadb1e17e56",
   "metadata": {},
   "source": [
    "## Setup Fonts"
   ]
  },
  {
   "cell_type": "code",
   "execution_count": 2,
   "id": "46a8fbd2-2fcf-4d75-a7de-163501338afc",
   "metadata": {},
   "outputs": [],
   "source": [
    "# update fonts\n",
    "FONTSIZE = 14\n",
    "font = {'family' : 'sans-serif',\n",
    "        'weight' : 'normal',\n",
    "        'size'   : FONTSIZE}\n",
    "mp.rc('font', **font)\n",
    "\n",
    "# use latex if available on system, otherwise set usetex=False\n",
    "mp.rc('text', usetex=True)\n",
    "\n",
    "# use JavaScript for animations\n",
    "mp.rc('animation', html='jshtml')\n",
    "\n",
    "# set a seed to ensure reproducibility \n",
    "# on a given machine\n",
    "seed = 314159\n",
    "rnd  = np.random.RandomState(seed)\n",
    "\n",
    "pp = PrettyPrinter()\n",
    "\n",
    "# color codes for printing\n",
    "BRED    =\"\\x1b[1;31;48m\"\n",
    "BGREEN  =\"\\x1b[1;32;48m\"\n",
    "BYELLOW =\"\\x1b[1;33;48m\"\n",
    "BBLUE   =\"\\x1b[1;34;48m\"\n",
    "BMAGENTA=\"\\x1b[1;35;48m\"\n",
    "BCYAN   =\"\\x1b[1;36;48m\"\n",
    "DCOLOR  =\"\\x1b[0m\"    # reset to default foreground color  "
   ]
  },
  {
   "cell_type": "markdown",
   "id": "7a458d9c-5d80-406d-a64d-07a41cd194be",
   "metadata": {},
   "source": [
    "## What is Python?\n",
    "\n",
    "Python is a computer language created by Guido van Rossum in the early 1990s that is\n",
    "  * interpreted \n",
    "  * dynamically typed\n",
    "  * simple\n",
    "  * powerful and\n",
    "  * free\n",
    "  \n",
    "Python website: https://python.org\n",
    "\n",
    "**Interpreted** An instruction in Python is executed immediately. In computer languages such as C++, the instructions are first translated into a language that is understood by the CPU. The translation sequence is called **compilation** and must be performed before the software can be executed.\n",
    "\n",
    "**Dynamically typed** Every software element in Python is of a given **type**. For example a variable might be of type `int` or `float`. In languages like C++ the type of a variable must be specified explicitly and once specified the type cannot change unless a specific action is taken to change it and then only if the new type is compatible with the original type. In Python the default behavior is that the type of a software element is determined by its current value. Since that value can change, so too can the type. A language where this is possible is called dynamically typed. C++ is an example of a statically-typed language. "
   ]
  },
  {
   "cell_type": "markdown",
   "id": "c4ed80c3-5bff-4b2b-b9f6-ba0ef44c9e50",
   "metadata": {},
   "source": [
    "## Getting Started\n",
    "### Python Types\n",
    "As noted above, software elements (variables, objects, functions, etc.) have an attribute called **type**. Here are a few of the types in Python, which are referred to as **fundamental types**."
   ]
  },
  {
   "cell_type": "code",
   "execution_count": 3,
   "id": "c310eec2-a329-49be-b6c1-1d028623a4bb",
   "metadata": {
    "tags": []
   },
   "outputs": [
    {
     "name": "stdout",
     "output_type": "stream",
     "text": [
      "1. <class 'int'> 1\n",
      "2. <class 'float'> 3.141592653589793\n",
      "3. <class 'complex'> (4+2j)\n",
      "4. <class 'str'> one\n",
      "5. <class 'bool'> False\n",
      "6. <class 'bool'> True\n"
     ]
    }
   ],
   "source": [
    "a = 1\n",
    "print('1.',type(a), a) # type: int \n",
    "\n",
    "a = np.pi\n",
    "print('2.', type(a), a) # type: float\n",
    "\n",
    "a = 4 + 2j\n",
    "print('3.', type(a), a) # type: complex\n",
    "\n",
    "a = 'one'\n",
    "print('4.', type(a), a) # type: str(ing)\n",
    "\n",
    "a = a == 'two'    # note use of the comparator operator \"==\". \n",
    "# The comparator \"==\" compares two quantities, \n",
    "# while \"=\" assigns the quantity to the right \n",
    "# of \"=\" to the quantity to the left of \"=\".\n",
    "\n",
    "# In a = a == 'two', \"==\" compares the string 'two' with the variable \"a\". \n",
    "# The comparison yields the result True or False, respectively, \n",
    "# depending on whether \"a\" is the same, or not the same, as 'one'.\n",
    "print('5.', type(a), a) # type: bool(ean)\n",
    "\n",
    "a = not a\n",
    "print('6.', type(a), a) # type: bool(ean)"
   ]
  },
  {
   "cell_type": "markdown",
   "id": "618ea9e5-7f22-4ff2-855c-4989b35811c9",
   "metadata": {},
   "source": [
    "### Sequence Types\n",
    "  * **Immutable types** (can't be changed)\n",
    "      * tuple \n",
    "      ```python \n",
    "          a = ('Bozo', 42, 3.14159, 'the', 'clown')\n",
    "      ```\n",
    "  * **Mutable types** (can be changed)\n",
    "      * string\n",
    "      ```python\n",
    "          a = \"Go boil your head\"\n",
    "      ```\n",
    "      * list\n",
    "      ```python\n",
    "          a = ['hello world', (42, 2.718), 2050]\n",
    "      ```\n",
    "      * dictionary\n",
    "      ```python\n",
    "          a = {'boo': a, 'hoo': s, 42: b}\n",
    "      ```\n",
    "  * Operations on sequences, a\n",
    "      * `len(a)`, `min(a)`, `max(a)`, `a[i]`, `a[i:j]` is the sequence `(a[i]...a[j-1])`\n",
    "      \n",
    "**NB**: The first index of all sequences is zero."
   ]
  },
  {
   "cell_type": "code",
   "execution_count": 4,
   "id": "ee3ce66b-985b-403c-91ac-92cf33335ad8",
   "metadata": {
    "tags": []
   },
   "outputs": [
    {
     "name": "stdout",
     "output_type": "stream",
     "text": [
      "1. tuple:\t ('Bozo', 42, 3.14159, 'the', 'clown')\n",
      "2. string:\t Go boil your head!\n",
      "3. list:\t ['Go boil your head!', ('Bozo', 42, 3.14159, 'the', 'clown'), 2050]\n",
      "4. dictionary:\t {'boo': ['Go boil your head!', ('Bozo', 42, 3.14159, 'the', 'clown'), 2050], 'hoo': 'Go boil your head!', 42: ('Bozo', 42, 3.14159, 'the', 'clown')}\n"
     ]
    }
   ],
   "source": [
    "atuple= ('Bozo', 42, 3.14159, 'the', 'clown')\n",
    "astr  = \"Go boil your head!\"\n",
    "alist = [astr, atuple, 2050]\n",
    "adict = {'boo': alist, 'hoo': astr, 42: atuple}\n",
    "\n",
    "print('1. tuple:\\t',  atuple)\n",
    "print('2. string:\\t', astr)\n",
    "print('3. list:\\t',   alist)\n",
    "print('4. dictionary:\\t', adict)"
   ]
  },
  {
   "cell_type": "markdown",
   "id": "00644c7f-93b7-4942-8ac2-249785b6b63d",
   "metadata": {
    "tags": []
   },
   "source": [
    "### Slicing, dicing, and extending!"
   ]
  },
  {
   "cell_type": "code",
   "execution_count": 29,
   "id": "723156c4-6e0b-4727-9c0b-f3dd4ee7dcea",
   "metadata": {
    "tags": []
   },
   "outputs": [
    {
     "name": "stdout",
     "output_type": "stream",
     "text": [
      "atuple: \t ('Bozo', 42, 3.14159, 'the', 'clown')\n",
      "len(atuple):\t 5\n",
      "i = 1\n",
      "j = 3\n",
      "\n",
      "atuple[i]:\t 42\n",
      "atuple[i:j]:\t (42, 3.14159)\n",
      "atuple[i:]:\t (42, 3.14159, 'the', 'clown')\n",
      "atuple[:j]:\t ('Bozo', 42, 3.14159)\n",
      "alist [1, 4, 9, 16, 25, 36, 49, 64, 81, 100]\n",
      "\n"
     ]
    },
    {
     "ename": "TypeError",
     "evalue": "'tuple' object does not support item assignment",
     "output_type": "error",
     "traceback": [
      "\u001b[31m---------------------------------------------------------------------------\u001b[39m",
      "\u001b[31mTypeError\u001b[39m                                 Traceback (most recent call last)",
      "\u001b[36mCell\u001b[39m\u001b[36m \u001b[39m\u001b[32mIn[29]\u001b[39m\u001b[32m, line 20\u001b[39m\n\u001b[32m     17\u001b[39m \u001b[38;5;28mprint\u001b[39m(\u001b[33m'\u001b[39m\u001b[33malist\u001b[39m\u001b[33m'\u001b[39m, alist)\n\u001b[32m     18\u001b[39m \u001b[38;5;28mprint\u001b[39m()\n\u001b[32m---> \u001b[39m\u001b[32m20\u001b[39m atuple[\u001b[32m2\u001b[39m] = np.pi\n",
      "\u001b[31mTypeError\u001b[39m: 'tuple' object does not support item assignment"
     ]
    }
   ],
   "source": [
    "i = 1\n",
    "j = 3\n",
    "\n",
    "print('atuple: \\t', atuple)\n",
    "print('len(atuple):\\t', len(atuple))\n",
    "print('i =', i)\n",
    "print('j =', j)\n",
    "print()\n",
    "\n",
    "print('atuple[i]:\\t', atuple[i])\n",
    "print('atuple[i:j]:\\t', atuple[i:j]) \n",
    "print('atuple[i:]:\\t', atuple[i:])\n",
    "print('atuple[:j]:\\t', atuple[:j])\n",
    "\n",
    "N = 10\n",
    "alist = [i**2 for i in range(1, N+1)] # this is called \"list comprehension\"\n",
    "print('alist', alist)\n",
    "print()\n",
    "\n",
    "atuple[2] = np.pi"
   ]
  },
  {
   "cell_type": "markdown",
   "id": "02054f8e-fb6b-4ab6-82c8-a2b75ae7025f",
   "metadata": {},
   "source": [
    "Oops! can't change an **immutable**!"
   ]
  },
  {
   "cell_type": "code",
   "execution_count": 8,
   "id": "721509c9-970e-45c1-85e6-a412f329ff31",
   "metadata": {
    "tags": []
   },
   "outputs": [
    {
     "name": "stdout",
     "output_type": "stream",
     "text": [
      "['Go boil your head!', ('Bozo', 42, 3.14159, 'the', 'clown'), 2050]\n",
      "\n",
      "['Go boil your head!', 'Thou lump of foul deformity!', 2050]\n"
     ]
    }
   ],
   "source": [
    "print(alist)\n",
    "print()\n",
    "\n",
    "alist[i] = \"Thou lump of foul deformity!\"\n",
    "print(alist)"
   ]
  },
  {
   "cell_type": "markdown",
   "id": "93d3bcb5-b774-4c0d-a01e-41bb7c637257",
   "metadata": {},
   "source": [
    "...but can change a **mutable**."
   ]
  },
  {
   "cell_type": "markdown",
   "id": "3878da62-0622-4b9c-b6d0-aeacaf36b2d7",
   "metadata": {},
   "source": [
    "Lists and dictionaries can be changed in several ways."
   ]
  },
  {
   "cell_type": "code",
   "execution_count": 9,
   "id": "b21515b8-a83f-4263-8dce-8e84d605c0f2",
   "metadata": {
    "tags": []
   },
   "outputs": [
    {
     "data": {
      "text/plain": [
       "['Go boil your head!', 'Thou lump of foul deformity!', 2050, [1, 2, 3, 'four']]"
      ]
     },
     "execution_count": 9,
     "metadata": {},
     "output_type": "execute_result"
    }
   ],
   "source": [
    "alist.append([1,2,3,'four'])\n",
    "alist"
   ]
  },
  {
   "cell_type": "code",
   "execution_count": 10,
   "id": "6dd78a2d-3efd-4e2f-a5a0-42a76bc5e960",
   "metadata": {
    "tags": []
   },
   "outputs": [
    {
     "name": "stdout",
     "output_type": "stream",
     "text": [
      "['BEFORE', 'Go boil your head!', 'Thou lump of foul deformity!', 2050, [1, 2, 3, 'four']]\n"
     ]
    }
   ],
   "source": [
    "alist.insert(0, 'BEFORE')\n",
    "print(alist)"
   ]
  },
  {
   "cell_type": "code",
   "execution_count": 11,
   "id": "48d5945d-69c8-4da3-a06b-2bcac8cfba14",
   "metadata": {
    "tags": []
   },
   "outputs": [
    {
     "name": "stdout",
     "output_type": "stream",
     "text": [
      "['BEFORE', 'Go boil your head!', 'POSITION 2; that is, 3rd position', 'Thou lump of foul deformity!', 2050, [1, 2, 3, 'four']]\n"
     ]
    }
   ],
   "source": [
    "alist.insert(2, 'POSITION 2; that is, 3rd position')\n",
    "print(alist)"
   ]
  },
  {
   "cell_type": "markdown",
   "id": "a10d35e8-8d3f-4189-bacd-97c930c94017",
   "metadata": {},
   "source": [
    "Lists can be **concatenated**."
   ]
  },
  {
   "cell_type": "code",
   "execution_count": 12,
   "id": "68314321-c87f-46f4-9e66-c482f68d1a10",
   "metadata": {
    "tags": []
   },
   "outputs": [
    {
     "name": "stdout",
     "output_type": "stream",
     "text": [
      "['BEFORE', 'Go boil your head!', 'POSITION 2; that is, 3rd position', 'Thou lump of foul deformity!', 2050, [1, 2, 3, 'four'], 'Pink Floyd', 'Uriah Heap', 'Led Zeppelin', 'Deep Purple', 'The Rolling Stones', 'Jimi Hendrix', 'Eric Clapton', 'Beethoven (Symphony No. 7 in A Major is awesome!)']\n"
     ]
    }
   ],
   "source": [
    "MyFavoriteArtists = ['Pink Floyd', \n",
    "                     'Uriah Heap', \n",
    "                     'Led Zeppelin', \n",
    "                     'Deep Purple',\n",
    "                     'The Rolling Stones',\n",
    "                     'Jimi Hendrix', \n",
    "                     'Eric Clapton', \n",
    "                     'Beethoven (Symphony No. 7 in A Major is awesome!)']\n",
    "\n",
    "alist = alist + MyFavoriteArtists\n",
    "print(alist)"
   ]
  },
  {
   "cell_type": "markdown",
   "id": "2aac6db8-be7e-4703-8007-03ca98df4830",
   "metadata": {},
   "source": [
    "$n$ copies of a list concatenated."
   ]
  },
  {
   "cell_type": "code",
   "execution_count": 13,
   "id": "593df3d8-2922-4de3-88e2-5b274d132670",
   "metadata": {
    "tags": []
   },
   "outputs": [
    {
     "name": "stdout",
     "output_type": "stream",
     "text": [
      "['BEFORE', 'Go boil your head!', 'POSITION 2; that is, 3rd position', 'BEFORE', 'Go boil your head!', 'POSITION 2; that is, 3rd position']\n"
     ]
    }
   ],
   "source": [
    "blist = 2 * alist[:3]\n",
    "print(blist)"
   ]
  },
  {
   "cell_type": "markdown",
   "id": "e640a09c-d4fc-42f8-bc24-360f77ef59e7",
   "metadata": {},
   "source": [
    "### Dictionary properties.\n",
    "\n",
    "Here we use construct called a `for loop`. See a bit later for more information about this important construct.\n",
    "\n",
    "**VERY IMPORTANT POINT**: \n",
    "\n",
    "**Python** uses **indentation** to delimit related blocks of code. This is an extremely important aspect of Python. (Indentation serves the same purpose as braces in C++.) Many bugs (mistakes!) in Python code arise because of incorrect indentation. Note the indentation within the `for` loop."
   ]
  },
  {
   "cell_type": "code",
   "execution_count": 14,
   "id": "7e2d6505-a532-4b91-8770-7f4278e377a3",
   "metadata": {
    "tags": []
   },
   "outputs": [
    {
     "name": "stdout",
     "output_type": "stream",
     "text": [
      "boo \t: ['BEFORE', 'Go boil your head!', 'POSITION 2; that is, 3rd position', 'Thou lump of foul deformity!', 2050, [1, 2, 3, 'four']]\n",
      "hoo \t: Go boil your head!\n",
      "42 \t: ('Bozo', 42, 3.14159, 'the', 'clown')\n"
     ]
    }
   ],
   "source": [
    "for key, value in adict.items():\n",
    "    print(key,'\\t:', value)"
   ]
  },
  {
   "cell_type": "code",
   "execution_count": 15,
   "id": "a8da16ef-ad91-4392-aa70-afcd6d9c08b0",
   "metadata": {
    "tags": []
   },
   "outputs": [
    {
     "name": "stdout",
     "output_type": "stream",
     "text": [
      "KEYS: ['boo', 'hoo', 42]\n",
      "VALUES: [['BEFORE', 'Go boil your head!', 'POSITION 2; that is, 3rd position', 'Thou lump of foul deformity!', 2050, [1, 2, 3, 'four']], 'Go boil your head!', ('Bozo', 42, 3.14159, 'the', 'clown')]\n"
     ]
    }
   ],
   "source": [
    "keys   = list(adict.keys())\n",
    "values = list(adict.values())\n",
    "print(\"KEYS:\", keys)\n",
    "print(\"VALUES:\", values)"
   ]
  },
  {
   "cell_type": "code",
   "execution_count": 16,
   "id": "96c6014a-6d93-4b4d-8fcc-47ae24aba146",
   "metadata": {
    "tags": []
   },
   "outputs": [
    {
     "data": {
      "text/plain": [
       "({'boo': 'Hey Mr. Tambourine man, play a song for me',\n",
       "  'hoo': 'Go boil your head!',\n",
       "  42: ('Bozo', 42, 3.14159, 'the', 'clown')},\n",
       " ('Bozo', 42, 3.14159, 'the', 'clown'))"
      ]
     },
     "execution_count": 16,
     "metadata": {},
     "output_type": "execute_result"
    }
   ],
   "source": [
    "adict['boo'] = 'Hey Mr. Tambourine man, play a song for me'\n",
    "adict, adict[42]"
   ]
  },
  {
   "cell_type": "markdown",
   "id": "ad2bee09-b16b-4235-81ff-e81545d911d5",
   "metadata": {},
   "source": [
    "## Strings \n",
    "### Formatting"
   ]
  },
  {
   "cell_type": "code",
   "execution_count": 18,
   "id": "a2837814-8074-4cbe-9844-dacecb7a7fb9",
   "metadata": {
    "tags": []
   },
   "outputs": [
    {
     "name": "stdout",
     "output_type": "stream",
     "text": [
      "1. To infinity and beyond!\n",
      "2. To InFinity and beyond\n",
      "3. To   3.141593 and Beyond\n",
      "4. To   3.141593 and beyond\n",
      "5. To 3.141593 and BeYond\n",
      "6. To 3.141593e+12 and BeYond\n",
      "7. 64 x 12 =        768\n",
      "8. 64 x 12 = 768       \n"
     ]
    }
   ],
   "source": [
    "item = \"infinity\" # can use double quotes\n",
    "astr = 'To %s and beyond!' % item; print('1.', astr)\n",
    "\n",
    "item = 'InFinity'\n",
    "astr = f'To {item:s} and beyond';  print('2.', astr)\n",
    "\n",
    "item = np.pi\n",
    "astr = f'To %10.6f and Beyond' % item; print('3.', astr)\n",
    "\n",
    "item = np.pi\n",
    "astr = f'To {item:10.6f} and beyond';  print('4.', astr)\n",
    "\n",
    "item = np.pi\n",
    "astr = f'To {item:.6f} and BeYond'; print('5.', astr)\n",
    "\n",
    "item = 1.0e12 * np.pi\n",
    "astr = f'To {item:.6e} and BeYond'; print('6.', astr)\n",
    "\n",
    "a = 64\n",
    "b = 12\n",
    "astr = f'{a:d} x {b:d} = {a*b:10d}';  print('7.', astr)\n",
    "astr = f'{a:d} x {b:d} = {a*b:<10d}'; print('8.', astr)"
   ]
  },
  {
   "cell_type": "markdown",
   "id": "f0d9a877-57dd-4aa8-b8bf-9cf013d6c4f6",
   "metadata": {},
   "source": [
    "### String manipulation\n",
    "\n",
    "Use `help(str)` to see the extensive list of string attributes and functions."
   ]
  },
  {
   "cell_type": "code",
   "execution_count": 19,
   "id": "e045a653-6e33-4012-be9c-709860b4c00c",
   "metadata": {},
   "outputs": [
    {
     "name": "stdout",
     "output_type": "stream",
     "text": [
      "1. the time has come the walrus walrus said\n",
      "2. ['the', 'time', 'has', 'come', 'the', 'walrus', 'walrus', 'said']\n",
      "3. The time has come the walrus walrus said\n",
      "4. THE TIME HAS COME THE WALRUS WALRUS SAID\n",
      "5. 22\n",
      "6. 29\n",
      "7. True\n",
      "8. False\n"
     ]
    }
   ],
   "source": [
    "astring = 'the time has come the walrus walrus said'\n",
    "print('1.', astring)\n",
    "\n",
    "asplitstring = astring.split()\n",
    "print('2.', asplitstring)\n",
    "print('3.', astring.capitalize())\n",
    "print('4.', astring.upper())\n",
    "print('5.', astring.find('walrus'))     # search from the left\n",
    "print('6.', astring.rfind('walrus'))    # search from the right\n",
    "print('7.', astring.startswith('the'))\n",
    "print('8.', astring.endswith('SAID'))"
   ]
  },
  {
   "cell_type": "markdown",
   "id": "2358a01a-0bbf-40c2-9e89-c738a56e5118",
   "metadata": {},
   "source": [
    "# `for` loops, `if` statements, arithmetic operators\n",
    "We have already encountered the `for` loop in our brief discussion of Python dictionaries.  A loop makes it possible to execute the same code more than once. This example shows how to use a simple **regular expression** to extract a substring from a string. "
   ]
  },
  {
   "cell_type": "code",
   "execution_count": 30,
   "id": "5b284e0a-6da9-4c35-83d9-18b465598bf2",
   "metadata": {
    "tags": []
   },
   "outputs": [
    {
     "name": "stdout",
     "output_type": "stream",
     "text": [
      "start\n",
      "Clock: 23:57:51\n",
      "end\n"
     ]
    }
   ],
   "source": [
    "import re\n",
    "from time import ctime, sleep\n",
    "\n",
    "gettime = re.compile('[0-9]+:[0-9]+:[0-9]+')\n",
    "N = 10\n",
    "print('start')\n",
    "\n",
    "for i in range(N):\n",
    "    adate = ctime()\n",
    "    clock = gettime.search(adate).group()\n",
    "\n",
    "    \n",
    "    # suppress newline with end='', \n",
    "    # return to start of the line using \\r and rewrite line\n",
    "    print(f'\\rClock: {clock}', end='')\n",
    "    \n",
    "    sleep(1) # sleep for one second\n",
    "    \n",
    "print() # add a newline (to complete line above)\n",
    "print('end')"
   ]
  },
  {
   "cell_type": "markdown",
   "id": "aacb0eed-6c80-438b-a326-5e7c682c2192",
   "metadata": {
    "tags": []
   },
   "source": [
    "### `if` statements"
   ]
  },
  {
   "cell_type": "code",
   "execution_count": 22,
   "id": "5549746c-23d0-410a-84ee-4d380f1d433b",
   "metadata": {
    "tags": []
   },
   "outputs": [
    {
     "name": "stdout",
     "output_type": "stream",
     "text": [
      "x =  42\n",
      "y =  4\n",
      "\n",
      "y < x\n"
     ]
    }
   ],
   "source": [
    "x = 42\n",
    "y = 4\n",
    "print('x = ', x)\n",
    "print('y = ', y)\n",
    "print()\n",
    "\n",
    "if y > x:\n",
    "    print('y > x')\n",
    "    \n",
    "elif y < x:\n",
    "    print('y < x')\n",
    "    \n",
    "else:\n",
    "    print(\"shouldn't get here!\")"
   ]
  },
  {
   "cell_type": "markdown",
   "id": "747382b7-4d47-4ffa-9567-246b17ce4d96",
   "metadata": {},
   "source": [
    "## Arithmetic operators"
   ]
  },
  {
   "cell_type": "code",
   "execution_count": 23,
   "id": "9ede1b95-45cb-4e1d-a76a-7dcecf4ca539",
   "metadata": {
    "tags": []
   },
   "outputs": [
    {
     "name": "stdout",
     "output_type": "stream",
     "text": [
      "x =  42\n",
      "y =  4\n",
      "\n",
      "x + y: 46\n",
      "x - y: 38\n",
      "x * y: 168\n",
      "x / y: 10.5\n",
      "x**y : 3111696\n",
      "x % y: 2\n",
      "x//y : 10\n",
      "\n",
      "+=, -=, *=, /=\n",
      "x + y: 46\n",
      "x - y: 38\n",
      "x * y: 168\n",
      "x / y: 10.5\n"
     ]
    }
   ],
   "source": [
    "x = 42\n",
    "y = 4\n",
    "\n",
    "print('x = ', x)\n",
    "print('y = ', y)\n",
    "print()\n",
    "\n",
    "z = x + y; print('x + y:', z)\n",
    "z = x - y; print('x - y:', z)\n",
    "z = x * y; print('x * y:', z)\n",
    "z = x / y; print('x / y:', z)\n",
    "z = x**y;  print('x**y :', z)\n",
    "z = x % y; print('x % y:', z)\n",
    "z = x // y; print('x//y :', z)\n",
    "print()\n",
    "\n",
    "print('+=, -=, *=, /=')\n",
    "z = x; z += y; print('x + y:', z)\n",
    "z = x; z -= y; print('x - y:', z)\n",
    "z = x; z *= y; print('x * y:', z)\n",
    "z = x; z /= y; print('x / y:', z)"
   ]
  },
  {
   "cell_type": "markdown",
   "id": "c89d5602-779f-435d-aae3-0b817cdb0426",
   "metadata": {
    "tags": []
   },
   "source": [
    "# eval, exec, try, except, raise\n",
    "## eval\n",
    "Evaluate a Python statement that returns a value."
   ]
  },
  {
   "cell_type": "code",
   "execution_count": 24,
   "id": "e1414a26-1f6e-45c0-a025-5cf5c8f55efc",
   "metadata": {
    "tags": []
   },
   "outputs": [
    {
     "name": "stdout",
     "output_type": "stream",
     "text": [
      "2147483647\n"
     ]
    }
   ],
   "source": [
    "cmd = '2**31-1'\n",
    "y   = eval(cmd)\n",
    "print(y)"
   ]
  },
  {
   "cell_type": "markdown",
   "id": "8499afdc-1481-4b18-82d7-d6df81abf8f0",
   "metadata": {},
   "source": [
    "## exec\n",
    "Evaluate any Python statement or sequence of statements. \n"
   ]
  },
  {
   "cell_type": "code",
   "execution_count": 25,
   "id": "7dcfb6b9-5356-4be5-941a-3c1030ae7d10",
   "metadata": {
    "tags": []
   },
   "outputs": [
    {
     "name": "stdout",
     "output_type": "stream",
     "text": [
      "2147483647\n"
     ]
    }
   ],
   "source": [
    "cmd = 'some_variable = 2**31-1'\n",
    "exec(cmd)\n",
    "print(some_variable)"
   ]
  },
  {
   "cell_type": "markdown",
   "id": "ca48aa82-f5a6-4f42-a452-01432e8925ab",
   "metadata": {},
   "source": [
    "## try, except, raise"
   ]
  },
  {
   "cell_type": "code",
   "execution_count": 26,
   "id": "9d89b000-773f-4f10-8d28-29d4a941e944",
   "metadata": {
    "tags": []
   },
   "outputs": [
    {
     "name": "stdout",
     "output_type": "stream",
     "text": [
      "x =  12\n",
      "y =  0\n",
      "\n",
      "x/y division by zero!\n",
      "\n",
      "\t\t** CRASH AND BURN! **\n",
      "\n"
     ]
    },
    {
     "ename": "ValueError",
     "evalue": "can't divide by zero!",
     "output_type": "error",
     "traceback": [
      "\u001b[31m---------------------------------------------------------------------------\u001b[39m",
      "\u001b[31mValueError\u001b[39m                                Traceback (most recent call last)",
      "\u001b[36mCell\u001b[39m\u001b[36m \u001b[39m\u001b[32mIn[26]\u001b[39m\u001b[32m, line 16\u001b[39m\n\u001b[32m     14\u001b[39m \u001b[38;5;28;01mif\u001b[39;00m y == \u001b[32m0\u001b[39m:\n\u001b[32m     15\u001b[39m     \u001b[38;5;28mprint\u001b[39m(\u001b[33m'\u001b[39m\u001b[38;5;130;01m\\n\u001b[39;00m\u001b[38;5;130;01m\\t\u001b[39;00m\u001b[38;5;130;01m\\t\u001b[39;00m\u001b[33m** CRASH AND BURN! **\u001b[39m\u001b[38;5;130;01m\\n\u001b[39;00m\u001b[33m'\u001b[39m)\n\u001b[32m---> \u001b[39m\u001b[32m16\u001b[39m     \u001b[38;5;28;01mraise\u001b[39;00m \u001b[38;5;167;01mValueError\u001b[39;00m(\u001b[33m\"\u001b[39m\u001b[33mcan\u001b[39m\u001b[33m'\u001b[39m\u001b[33mt divide by zero!\u001b[39m\u001b[33m\"\u001b[39m)\n",
      "\u001b[31mValueError\u001b[39m: can't divide by zero!"
     ]
    }
   ],
   "source": [
    "x = 12\n",
    "y =  0\n",
    "\n",
    "print('x = ', x)\n",
    "print('y = ', y)\n",
    "print()\n",
    "\n",
    "try:\n",
    "    z = x / y\n",
    "    print(z)\n",
    "except ZeroDivisionError:\n",
    "    print('x/y division by zero!')\n",
    "    \n",
    "if y == 0:\n",
    "    print('\\n\\t\\t** CRASH AND BURN! **\\n')\n",
    "    raise ValueError(\"can't divide by zero!\")"
   ]
  }
 ],
 "metadata": {
  "kernelspec": {
   "display_name": "Python 3 (ipykernel)",
   "language": "python",
   "name": "python3"
  },
  "language_info": {
   "codemirror_mode": {
    "name": "ipython",
    "version": 3
   },
   "file_extension": ".py",
   "mimetype": "text/x-python",
   "name": "python",
   "nbconvert_exporter": "python",
   "pygments_lexer": "ipython3",
   "version": "3.13.5"
  },
  "toc-autonumbering": true,
  "toc-showcode": true,
  "toc-showmarkdowntxt": false
 },
 "nbformat": 4,
 "nbformat_minor": 5
}
