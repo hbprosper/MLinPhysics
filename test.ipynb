{
 "cells": [
  {
   "cell_type": "markdown",
   "id": "b6da8301-9d69-4936-a178-0a0b718eaf4e",
   "metadata": {},
   "source": [
    "# Test Imports"
   ]
  },
  {
   "cell_type": "code",
   "execution_count": 1,
   "id": "196c3b90-1273-4184-a24a-1e1d3110e564",
   "metadata": {},
   "outputs": [],
   "source": [
    "import os, sys\n",
    "import numpy as np\n",
    "import pandas as pd\n",
    "import sympy as sm\n",
    "import scipy as sp\n",
    "import torch\n",
    "# standard measures of model performance\n",
    "from sklearn.metrics import roc_curve, auc\n",
    "import matplotlib as mp\n",
    "import matplotlib.pyplot as plt\n",
    "%matplotlib inline"
   ]
  }
 ],
 "metadata": {
  "kernelspec": {
   "display_name": "Python 3 (ipykernel)",
   "language": "python",
   "name": "python3"
  },
  "language_info": {
   "codemirror_mode": {
    "name": "ipython",
    "version": 3
   },
   "file_extension": ".py",
   "mimetype": "text/x-python",
   "name": "python",
   "nbconvert_exporter": "python",
   "pygments_lexer": "ipython3",
   "version": "3.11.8"
  }
 },
 "nbformat": 4,
 "nbformat_minor": 5
}
