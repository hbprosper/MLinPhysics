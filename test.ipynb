{
 "cells": [
  {
   "cell_type": "markdown",
   "id": "b6da8301-9d69-4936-a178-0a0b718eaf4e",
   "metadata": {},
   "source": [
    "# Test $\\texttt{miniconda3}$ installation\n",
    "\n",
    "## Tips\n",
    "\n",
    "  * Use __esc r__ to disable a cell\n",
    "  * Use __esc y__ to reactivate it\n",
    "  * Use __esc m__ to go to markdown mode\n",
    "  * Press Shift then hit return to execute a cell\n"
   ]
  },
  {
   "cell_type": "code",
   "execution_count": 1,
   "id": "196c3b90-1273-4184-a24a-1e1d3110e564",
   "metadata": {},
   "outputs": [],
   "source": [
    "import os, sys\n",
    "import numpy as np\n",
    "import pandas as pd\n",
    "import sympy as sm\n",
    "import scipy as sp\n",
    "import torch\n",
    "import json\n",
    "\n",
    "# standard measures of model performance\n",
    "from sklearn.metrics import roc_curve, auc\n",
    "import matplotlib as mp\n",
    "import matplotlib.pyplot as plt\n",
    "\n",
    "# ML in Physics module\n",
    "import mlinphysics.nn as ml"
   ]
  },
  {
   "cell_type": "code",
   "execution_count": null,
   "id": "7091b097-2a36-4521-af28-a9ce68e594b1",
   "metadata": {},
   "outputs": [],
   "source": []
  }
 ],
 "metadata": {
  "kernelspec": {
   "display_name": "Python 3 (ipykernel)",
   "language": "python",
   "name": "python3"
  },
  "language_info": {
   "codemirror_mode": {
    "name": "ipython",
    "version": 3
   },
   "file_extension": ".py",
   "mimetype": "text/x-python",
   "name": "python",
   "nbconvert_exporter": "python",
   "pygments_lexer": "ipython3",
   "version": "3.13.5"
  }
 },
 "nbformat": 4,
 "nbformat_minor": 5
}
